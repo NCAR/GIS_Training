{
 "cells": [
  {
   "cell_type": "markdown",
   "metadata": {},
   "source": [
    "# Building Pocono, NY Test Case Data\n",
    "\n",
    "In this notebook, the code is presented which can be used to generate the Non-NWM test-case routing files.\n",
    "\n",
    "We will run command-line arguments to create output directories for each of the test cases. Then, each cell will run the WRF-Hydro GIS Pre-processor to build the 'routing stack' files. The final command is used to unzip the outputs so they can be readily used by WRF-Hydro. There are 4 Non-NWM test-case configurations which can all be created using different combinations of arguments to the GIS pre-processor. Currently missing at this time is the capability to build wrfinput, hydro2dtbl, and soil_properties files."
   ]
  },
  {
   "cell_type": "markdown",
   "metadata": {},
   "source": [
    "### 1. Gridded channel routing configuration with reservoirs and forecast points\n",
    "\n",
    "This domain is a gridded domain with lakes, gages and a regridding factor of 4 and threshold of 20"
   ]
  },
  {
   "cell_type": "code",
   "execution_count": null,
   "metadata": {},
   "outputs": [],
   "source": [
    "# Create the output directory and ensure it is empty\n",
    "! mkdir -p /home/docker/GIS_Training/Outputs/Gridded\n",
    "! rm -r /home/docker/GIS_Training/Outputs/Gridded/*\n",
    "\n",
    "# Run the GIS Pre-processing script (with line-breaks)\n",
    "! python Build_Routing_Stack.py \\\n",
    "    -i /home/docker/wrf-hydro-training/example_case/Gridded/DOMAIN/geo_em.d01.nc \\\n",
    "    -l /home/docker/GIS_Training/Pocono/lake_shapes/lakes.shp \\\n",
    "    --CSV /home/docker/GIS_Training/Pocono/Pocono_gages.csv \\\n",
    "    -d /home/docker/GIS_Training/Pocono/Pocono_DEM.tif \\\n",
    "    -R 4 \\\n",
    "    -t 20 \\\n",
    "    -o /home/docker/GIS_Training/Outputs/Gridded/Gridded_r4_t20_lakes_frxst_mask.zip\n",
    "\n",
    "# Unzip the directory in-place\n",
    "! unzip /home/docker/GIS_Training/Outputs/Gridded/Gridded_r4_t20_lakes_frxst_mask.zip -d /home/docker/GIS_Training/Outputs/Gridded/"
   ]
  },
  {
   "cell_type": "markdown",
   "metadata": {},
   "source": [
    "### 2. Gridded channel routing configuration with forecast points, and channel masking\n",
    "\n",
    "This domain is a gridded domain without lakes. It contains gages, masked basins and a regridding factor of 4 and thrshold of 20"
   ]
  },
  {
   "cell_type": "code",
   "execution_count": null,
   "metadata": {},
   "outputs": [],
   "source": [
    "# Create the output directory and ensure it is empty\n",
    "! mkdir -p /home/docker/GIS_Training/Outputs/Gridded_no_lakes\n",
    "! rm -r /home/docker/GIS_Training/Outputs/Gridded_no_lakes/*\n",
    "\n",
    "# Run the GIS Pre-processing script (with line-breaks)\n",
    "! python Build_Routing_Stack.py \\\n",
    "    -i /home/docker/wrf-hydro-training/example_case/Gridded_no_lakes/DOMAIN/geo_em.d01.nc \\\n",
    "    --CSV /home/docker/GIS_Training/Pocono/Pocono_gages.csv \\\n",
    "    -d /home/docker/GIS_Training/Pocono/Pocono_DEM.tif \\\n",
    "    -R 4 \\\n",
    "    -t 20 \\\n",
    "    -o /home/docker/GIS_Training/Outputs/Gridded_no_lakes/Gridded_r4_t20_frxst_mask.zip\n",
    "\n",
    "# Unzip the directory in-place\n",
    "! unzip /home/docker/GIS_Training/Outputs/Gridded_no_lakes/Gridded_r4_t20_frxst_mask.zip -d /home/docker/GIS_Training/Outputs/Gridded_no_lakes/"
   ]
  },
  {
   "cell_type": "markdown",
   "metadata": {},
   "source": [
    "### 3. Reach-based channel routing configuration with forecast points\n",
    "\n",
    "This domain is a reach-based routing configuration with gages, no masking, no lakes. Regridding factor of 4 and threshold of 20"
   ]
  },
  {
   "cell_type": "code",
   "execution_count": null,
   "metadata": {},
   "outputs": [],
   "source": [
    "# Create the output directory and ensure it is empty\n",
    "! mkdir -p /home/docker/GIS_Training/Outputs/Reach\n",
    "! rm -r /home/docker/GIS_Training/Outputs/Reach/*\n",
    "\n",
    "# Run the GIS Pre-processing script (with line-breaks)\n",
    "! python Build_Routing_Stack.py \\\n",
    "    -i /home/docker/wrf-hydro-training/example_case/Reach/DOMAIN/geo_em.d01.nc \\\n",
    "    -r True \\\n",
    "    --CSV /home/docker/GIS_Training/Pocono/Pocono_gages.csv \\\n",
    "    -d /home/docker/GIS_Training/Pocono/Pocono_DEM.tif \\\n",
    "    -R 4 \\\n",
    "    -t 20 \\\n",
    "    -o /home/docker/GIS_Training/Outputs/Reach/Reach_r4_t20_frxst.zip\n",
    "\n",
    "# Unzip the directory in-place\n",
    "! unzip /home/docker/GIS_Training/Outputs/Reach/Reach_r4_t20_frxst.zip -d /home/docker/GIS_Training/Outputs/Reach/"
   ]
  },
  {
   "cell_type": "markdown",
   "metadata": {},
   "source": [
    "### 4. Reach-based channel routing configuration with reservoirs and forecast points\n",
    "\n",
    "This domain is a reach-based routing configuration with gages and lakes. No masking. Regridding factor of 4 and threshold of 20"
   ]
  },
  {
   "cell_type": "code",
   "execution_count": null,
   "metadata": {},
   "outputs": [],
   "source": [
    "# Create the output directory and ensure it is empty\n",
    "! mkdir -p /home/docker/GIS_Training/Outputs/ReachLakes\n",
    "! rm -r /home/docker/GIS_Training/Outputs/ReachLakes/*\n",
    "\n",
    "# Run the GIS Pre-processing script (with line-breaks)\n",
    "! python Build_Routing_Stack.py \\\n",
    "    -i /home/docker/wrf-hydro-training/example_case/ReachLakes/DOMAIN/geo_em.d01.nc \\\n",
    "    -r True \\\n",
    "    --CSV /home/docker/GIS_Training/Pocono/Pocono_gages.csv \\\n",
    "    -l /home/docker/GIS_Training/Pocono/lake_shapes/lakes.shp \\\n",
    "    -d /home/docker/GIS_Training/Pocono/Pocono_DEM.tif \\\n",
    "    -R 4 \\\n",
    "    -t 20 \\\n",
    "    -o /home/docker/GIS_Training/Outputs/ReachLakes/Reach_r4_t20_frxst_lakes.zip\n",
    "\n",
    "# Unzip the directory in-place\n",
    "! unzip /home/docker/GIS_Training/Outputs/ReachLakes/Reach_r4_t20_frxst_lakes.zip -d /home/docker/GIS_Training/Outputs/ReachLakes/"
   ]
  }
 ],
 "metadata": {
  "kernelspec": {
   "display_name": "Python 3 (ipykernel)",
   "language": "python",
   "name": "python3"
  },
  "language_info": {
   "codemirror_mode": {
    "name": "ipython",
    "version": 3
   },
   "file_extension": ".py",
   "mimetype": "text/x-python",
   "name": "python",
   "nbconvert_exporter": "python",
   "pygments_lexer": "ipython3",
   "version": "3.9.7"
  }
 },
 "nbformat": 4,
 "nbformat_minor": 4
}

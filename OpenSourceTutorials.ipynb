{
 "cells": [
  {
   "cell_type": "markdown",
   "metadata": {},
   "source": [
    "# Open Source GIS Pre-Processing Tutorial"
   ]
  },
  {
   "cell_type": "markdown",
   "metadata": {},
   "source": [
    "## Table of Contents\n",
    "1. [Create domain boundary shapefile](#Create-domain-boundary-shapefile)<br>\n",
    "2. [Build geotiff from geogrid file](#Build-geotiff-from-geogrid-file)<br>\n",
    "3. [Build routing stack](#Build-routing-stack)<br>\n",
    "4. [Examine outputs of GIS pre-processor](#Examine-outputs-of-GIS-pre-processor)\n"
   ]
  },
  {
   "cell_type": "markdown",
   "metadata": {},
   "source": [
    "## Create domain boundary shapefile"
   ]
  },
  {
   "cell_type": "markdown",
   "metadata": {},
   "source": [
    "This tool takes an WRF Geogrid file and creates a single polygon shapefile that makes up the boundary of the domain of the M-grid (HGT_M, for example)."
   ]
  },
  {
   "cell_type": "markdown",
   "metadata": {},
   "source": [
    "#### Get file paths\n",
    "In this cell, variables are created that point to the file paths of the test data and a folder to store the output data created by these tools"
   ]
  },
  {
   "cell_type": "code",
   "execution_count": 1,
   "metadata": {},
   "outputs": [
    {
     "name": "stdout",
     "output_type": "stream",
     "text": [
      "Script initiated at Wed Sep 30 17:06:48 2020\n"
     ]
    }
   ],
   "source": [
    "import os\n",
    "import Create_Domain_Boundary_Shapefile\n",
    "\n",
    "cwd = os.getcwd()\n",
    "data_folder = os.path.join(cwd, 'Croton_Lambert')\n",
    "in_geogrid = os.path.join(data_folder, 'geo_em.d01.nc')\n",
    "output_folder = os.path.join(cwd, 'Outputs')"
   ]
  },
  {
   "cell_type": "markdown",
   "metadata": {},
   "source": [
    "#### Call help for the script on the command line\n",
    "This is an example of the syntax for calling the Create Domain Boundary Shapefile tool on the command line. By following the tool with '-h', we are able to call the help arguement which explains the purpose of the tool, shows the different arguements we can use for this tool, as well as the descriptions for each arguement. \n",
    "\n",
    "It is not necessary to use the exclamation point on the command line, but it must be used to run this example in Jupyter. "
   ]
  },
  {
   "cell_type": "code",
   "execution_count": 2,
   "metadata": {},
   "outputs": [
    {
     "name": "stdout",
     "output_type": "stream",
     "text": [
      "Script initiated at Wed Sep 30 17:06:49 2020\n",
      "Script initiated at Wed Sep 30 17:06:49 2020\n",
      "usage: Create_Domain_Boundary_Shapefile.py [-h] -i IN_NC -o OUT_DIR\n",
      "\n",
      "This tool takes an WRF Geogrid file and creates a single polygon shapefile\n",
      "that makes up the boundary of the domain of the M-grid (HGT_M, for example).\n",
      "\n",
      "optional arguments:\n",
      "  -h, --help  show this help message and exit\n",
      "  -i IN_NC    Path to WPS geogrid (geo_em.d0*.nc) file or WRF-Hydro\n",
      "              Fulldom_hires.nc file.\n",
      "  -o OUT_DIR  Output directory.\n"
     ]
    }
   ],
   "source": [
    "! python Create_Domain_Boundary_Shapefile.py -h"
   ]
  },
  {
   "cell_type": "markdown",
   "metadata": {},
   "source": [
    "#### Run the script on the command line\n",
    "Now that we know what arguements are needed for this tool, we can call those arguements and run the tool. For this tool, we only need to specify the file path to the geogrid file and an output folder to save the result. \n",
    "\n",
    "The result of this tool is a shapefile that shows the geographic boundary of the domain of the geogrid file. \n",
    "\n",
    "When running this tool in Jupyter, we can use brackets around our variables to use with our parameters, however on the command line it is necessary to use a file path."
   ]
  },
  {
   "cell_type": "code",
   "execution_count": 3,
   "metadata": {},
   "outputs": [
    {
     "name": "stdout",
     "output_type": "stream",
     "text": [
      "Script initiated at Wed Sep 30 17:06:51 2020\n",
      "Script initiated at Wed Sep 30 17:06:51 2020\n",
      "WPS netCDF projection identification initiated...\n",
      "    Map Projection: Lambert Conformal Conic\n",
      "    Using MOAD_CEN_LAT for latitude of origin.\n",
      "    Using Standard Parallel 2 in Lambert Conformal Conic map projection.\n",
      "    Geo-referencing step completed without error in  0.24 seconds.\n",
      "    Created projection definition from input NetCDF GEOGRID file.\n",
      "      ESRI Shapefile driver is available.\n",
      "  Done producing output vector polygon shapefile in  0.02 seconds\n",
      "  Output shapefile: C:\\Users\\casali\\Documents\\Projects\\ForKevin\\OpenSource_GIS_ProProcessing\\Tutorials\\Jupyter\\Outputs\\geo_em.d01_boundary.shp\n",
      "Process completed in 0.27 seconds.\n"
     ]
    }
   ],
   "source": [
    "! python Create_Domain_Boundary_Shapefile.py -i {in_geogrid} -o {output_folder}"
   ]
  },
  {
   "cell_type": "markdown",
   "metadata": {},
   "source": [
    "#### View the output boundary shapefile\n",
    "\n",
    "Now that the domain boundary shapefile has been created, we want to see where it is on a map. This cell creates a map and adds the domain boundary as a layer. Use the map to explore the domain. A swipe feature allows the basemap to be changed to and from OpenStreetMap and satellite imagery. "
   ]
  },
  {
   "cell_type": "code",
   "execution_count": 4,
   "metadata": {
    "scrolled": false
   },
   "outputs": [
    {
     "data": {
      "application/vnd.jupyter.widget-view+json": {
       "model_id": "bde5c50909ef4da38d5666a1bfa067c4",
       "version_major": 2,
       "version_minor": 0
      },
      "text/plain": [
       "Map(center=[41.5, -73.73], controls=(ZoomControl(options=['position', 'zoom_in_text', 'zoom_in_title', 'zoom_o…"
      ]
     },
     "metadata": {},
     "output_type": "display_data"
    }
   ],
   "source": [
    "import json\n",
    "import geopandas\n",
    "from ipyleaflet import Map, GeoJSON, ScaleControl, FullScreenControl, basemaps, SplitMapControl, basemap_to_tiles, LayersControl\n",
    "\n",
    "import warnings\n",
    "warnings.filterwarnings(\"ignore\")\n",
    "\n",
    "# Setup display items\n",
    "boundary_shp = os.path.join(output_folder,'geo_em.d01_boundary.shp')\n",
    "b_shp = geopandas.read_file(boundary_shp)\n",
    "b_shp = b_shp.to_crs(epsg=4326)\n",
    "\n",
    "# Export vector to GeoJSON\n",
    "b_json = os.path.join(output_folder, 'boundary.json')\n",
    "b_shp.to_file(b_json, driver='GeoJSON')\n",
    "\n",
    "# Read GeoJSON\n",
    "with open(b_json, 'r') as f:\n",
    "    data = json.load(f)\n",
    "    \n",
    "# Obtain vector center point\n",
    "x = b_shp.geometry.centroid.x\n",
    "y = b_shp.geometry.centroid.y\n",
    "map_center = y[0], x[0]\n",
    "\n",
    "# Instantiate map object\n",
    "m = Map(center=(41.50, -73.73), zoom=10, scroll_wheel_zoom=True)\n",
    "\n",
    "# Read GeoJSON\n",
    "geo_json = GeoJSON(data=data, name='Domain boundary')\n",
    "m.add_control(ScaleControl(position='bottomleft'))\n",
    "m.add_control(FullScreenControl())\n",
    "\n",
    "# Define basemaps to swipe between\n",
    "right_layer = basemap_to_tiles(basemap=basemaps.OpenStreetMap.Mapnik)\n",
    "left_layer = basemap_to_tiles(basemap=basemaps.Esri.WorldImagery)\n",
    "\n",
    "# Setup basemap swipe control\n",
    "control = SplitMapControl(left_layer=left_layer, right_layer=right_layer)\n",
    "m.add_control(control)\n",
    "m.add_layer(geo_json)\n",
    "\n",
    "control = LayersControl(position='topright')\n",
    "m.add_control(control)\n",
    "\n",
    "# Resize map\n",
    "m.layout.width = '950px'\n",
    "m.layout.height = '750px'\n",
    "\n",
    "# Draw map\n",
    "m"
   ]
  },
  {
   "cell_type": "markdown",
   "metadata": {},
   "source": [
    "## Build geotiff from geogrid file"
   ]
  },
  {
   "cell_type": "markdown",
   "metadata": {},
   "source": [
    "This is a program to export >=2D variables from a WRF-Hydro input file (geogrid or Fulldom_hires) file to an output raster format, with all spatial and coordinate system metadata. If a 3-dimensional variable is selected, individual raster bands will be created in the output raster for each index in the 3rd dimension. If a 4-dimensional variable is selected, the first index in the 4th dimension will be selected and the variable will be treated as a 3-dimensional variable described above."
   ]
  },
  {
   "cell_type": "markdown",
   "metadata": {},
   "source": [
    "#### Run the script using Python\n",
    "We will run this tool using Python rather than the command line method. The tool takes three input parameters: the geogrid file, a variable from that geogrid file, and a path for the output file. For this example, we will use the height in meters, \"HGT_M\", variable."
   ]
  },
  {
   "cell_type": "code",
   "execution_count": 5,
   "metadata": {},
   "outputs": [
    {
     "name": "stdout",
     "output_type": "stream",
     "text": [
      "WPS netCDF projection identification initiated...\n",
      "    Map Projection: Lambert Conformal Conic\n",
      "    Using MOAD_CEN_LAT for latitude of origin.\n",
      "    Using Standard Parallel 2 in Lambert Conformal Conic map projection.\n",
      "    Geo-referencing step completed without error in  0.13 seconds.\n",
      "    X-dimension: 'west_east'.\n",
      "    Y-dimension: 'south_north'.\n",
      "    Reversing order of dimension 'south_north'\n",
      "    Time dimension found: 'Time'.\n",
      "      Time dimension size = 1.\n",
      "    Dimensions and indices or slices on those dimensions:\n",
      "        Time: 0\n",
      "        south_north: slice(None, None, -1)\n",
      "        west_east: slice(None, None, None)\n",
      "    Size of array being sent to raster: (16, 15)\n",
      "    GDAL Data type derived from input array: 6 (float32)\n",
      "    Bands in output raster: 1\n",
      "    Created GTiff format raster from HGT_M variable: C:\\Users\\casali\\Documents\\Projects\\ForKevin\\OpenSource_GIS_ProProcessing\\Tutorials\\Jupyter\\Outputs\\HGT_M.tif\n"
     ]
    }
   ],
   "source": [
    "import rasterio\n",
    "from matplotlib import pyplot\n",
    "from Build_GeoTiff_From_Geogrid_File import build_geogrid_raster\n",
    "\n",
    "in_geogrid = os.path.join(data_folder, 'geo_em.d01.nc')\n",
    "output_folder = os.path.join(cwd, 'Outputs')\n",
    "in_var = \"HGT_M\"\n",
    "out_file = os.path.join(output_folder, f'{in_var}.tif')\n",
    "\n",
    "build_geogrid_raster(in_geogrid, in_var, out_file)"
   ]
  },
  {
   "cell_type": "markdown",
   "metadata": {},
   "source": [
    "#### View outputs\n",
    "Now that the tool has completed, we want to take a look at the output. We will create another map and load the data as a layer. "
   ]
  },
  {
   "cell_type": "code",
   "execution_count": 6,
   "metadata": {},
   "outputs": [
    {
     "data": {
      "application/vnd.jupyter.widget-view+json": {
       "model_id": "f792e44916944719a6a477a2a995a4f8",
       "version_major": 2,
       "version_minor": 0
      },
      "text/plain": [
       "Map(center=[41.47100098314024, -73.74365045481873], controls=(ZoomControl(options=['position', 'zoom_in_text',…"
      ]
     },
     "metadata": {},
     "output_type": "display_data"
    }
   ],
   "source": [
    "import matplotlib\n",
    "from osgeo import gdal\n",
    "from ipyleaflet import ImageOverlay\n",
    "from jupyter_functions import cmap_options, show_raster_map\n",
    "\n",
    "m2 = Map(center=map_center, zoom=10, scroll_wheel_zoom=True)\n",
    "\n",
    "m2.add_control(ScaleControl(position='bottomleft'))\n",
    "m2.add_control(FullScreenControl())\n",
    "control = LayersControl(position='topright')\n",
    "m2.add_control(control)\n",
    "\n",
    "m2.layout.width = '950px'\n",
    "m2.layout.height = '750px'\n",
    "\n",
    "m2"
   ]
  },
  {
   "cell_type": "code",
   "execution_count": 7,
   "metadata": {},
   "outputs": [],
   "source": [
    "show_raster_map(out_file, m2, b_shp, output_folder)"
   ]
  },
  {
   "cell_type": "markdown",
   "metadata": {},
   "source": [
    "## Build routing stack"
   ]
  },
  {
   "cell_type": "markdown",
   "metadata": {},
   "source": [
    "This is a program to perform the full routing-stack GIS pre-processing for WRF-Hydro. The inputs will be related to the domain, the desired routing nest factor, and other options and parameter values. The output will be a routing stack zip file with WRF-Hydro domain and parameter files."
   ]
  },
  {
   "cell_type": "markdown",
   "metadata": {},
   "source": [
    "• Required:<br>\n",
    "&emsp;-WRF GEOGRID file (.nc)<br>\n",
    "&emsp;-High-resolution Elevation<br>\n",
    "&emsp;&emsp;-Elevation file (Esri GRID, GeoTIFF, etc.)<br>\n",
    "&emsp;&emsp;-Mosaic Dataset<br>\n",
    "\n",
    "• Parameters<br>\n",
    "&emsp;-Regridding Factor – nesting relationship of routing:land grids<br>\n",
    "&emsp;-Minimum basin size (in routing grid cells)<br>\n",
    "&emsp;-OVROUGHRTFAC – constant<br>\n",
    "&emsp;-RETDEPRTFAC – constant<br>\n",
    "&emsp;-LKSATFAC – constant<br>\n",
    "\n",
    "• Optional:<br>\n",
    "&emsp;-Station Locations (.csv)<br>\n",
    "&emsp;-Lake Polygons (polygon feature class or .shp)<br>"
   ]
  },
  {
   "cell_type": "markdown",
   "metadata": {},
   "source": [
    "#### Use command line to view the help message\n",
    "This tool has many different parameters and possible configurations. Using the command line, we can take a look at the different arguements that can be used, if they are required or optional, and what their default values are."
   ]
  },
  {
   "cell_type": "code",
   "execution_count": 8,
   "metadata": {},
   "outputs": [
    {
     "name": "stdout",
     "output_type": "stream",
     "text": [
      "Script initiated at Wed Sep 30 17:06:57 2020\n",
      "usage: Build_Routing_Stack.py [-h] -i INGEOGRID [--CSV INCSV] [-b BASIN_MASK]\n",
      "                              [-r RB_ROUTING] [-l IN_RESERVOIRS] -d INDEM\n",
      "                              [-R CELLSIZE] [-t THRESHOLD] [-o OUT_ZIP_FILE]\n",
      "                              [-O OVROUGHRTFAC_VAL] [-T RETDEPRTFAC_VAL]\n",
      "                              [--starts CHANNEL_STARTS] [--gw GW_POLYS]\n",
      "\n",
      "This is a program to perform the full routing-stack GIS pre-processingfor WRF-\n",
      "Hydro. The inputs will be related to the domain, the desired routing nest\n",
      "factor, and other options and parameter values. The output will be a routing\n",
      "stack zip file with WRF-Hydro domain and parameter files.\n",
      "\n",
      "optional arguments:\n",
      "  -h, --help            show this help message and exit\n",
      "  -i INGEOGRID          Path to WPS geogrid (geo_em.d0*.nc) file [REQUIRED]\n",
      "  --CSV INCSV           Path to input forecast point CSV file [OPTIONAL]\n",
      "  -b BASIN_MASK         Mask CHANNELGRID variable to forecast basins?\n",
      "                        [True/False]. default=False\n",
      "  -r RB_ROUTING         Create reach-based routing (RouteLink) files?\n",
      "                        [True/False]. default=False\n",
      "  -l IN_RESERVOIRS      Path to reservoirs shapefile or feature class\n",
      "                        [OPTIONAL]. If -l is TRUE, this is required.\n",
      "  -d INDEM              Path to input high-resolution elevation raster\n",
      "                        [REQUIRED]\n",
      "  -R CELLSIZE           Regridding (nest) Factor. default=10\n",
      "  -t THRESHOLD          Number of routing grid cells to define stream.\n",
      "                        default=200\n",
      "  -o OUT_ZIP_FILE       Output routing stack ZIP file [REQUIRED]\n",
      "  -O OVROUGHRTFAC_VAL   OVROUGHRTFAC value. default=1.0\n",
      "  -T RETDEPRTFAC_VAL    RETDEPRTFAC value. default=1.0\n",
      "  --starts CHANNEL_STARTS\n",
      "                        Path to channel initiation points feature class. Must\n",
      "                        be 2D point type. [OPTIONAL]\n",
      "  --gw GW_POLYS         Path to groundwater polygons feature class [OPTIONAL]\n"
     ]
    }
   ],
   "source": [
    "os.chdir(cwd)\n",
    "! python Build_Routing_Stack.py -h"
   ]
  },
  {
   "cell_type": "markdown",
   "metadata": {},
   "source": [
    "#### Using Python to run the tool\n",
    "We will begin by running a basic configuration of the tool using Python."
   ]
  },
  {
   "cell_type": "code",
   "execution_count": 9,
   "metadata": {},
   "outputs": [
    {
     "name": "stdout",
     "output_type": "stream",
     "text": [
      "  Reach-based routing files will not be created.\n",
      "WPS netCDF projection identification initiated...\n",
      "    Map Projection: Lambert Conformal Conic\n",
      "    Using MOAD_CEN_LAT for latitude of origin.\n",
      "    Using Standard Parallel 2 in Lambert Conformal Conic map projection.\n",
      "    Geo-referencing step completed without error in  0.10 seconds.\n",
      "  Building sub-grid of model grid.\n",
      "    Original grid spacing dx=1000.0, dy=-1000.0\n",
      "    Original grid size: rows=16, cols=15\n",
      "    New grid spacing: dx=100.0, dy=-100.0\n",
      "    New dimensions: rows=160, cols=150\n",
      "    Created projection definition from input NetCDF GEOGRID file.\n",
      "    Proj4: +proj=lcc +lat_0=41.4710083007813 +lon_0=-97 +lat_1=30 +lat_2=60 +x_0=0 +y_0=0 +R=6370000 +units=m +no_defs\n",
      "    Coarse grid GeoTransform: 1841998.7848425123 1000.0 0 278496.6013001092 0 -1000.0\n",
      "    Coarse grid extent [Xmin, Ymin, Xmax, Ymax]: [1841998.7848425123, 262496.6013001092, 1856998.7848425123, 278496.6013001092]\n",
      "    Fine grid extent [Xmin, Ymin, Xmax, Ymax]:   [1841998.7848425123, 262496.6013001092, 1856998.7848425123, 278496.6013001092]\n",
      "    GDAL Data type derived from input array: 6 (float32)\n",
      "  Creating CF-netCDF File.\n",
      "    Esri PE String: PROJCS[\"unnamed\",GEOGCS[\"GCS_Sphere\",DATUM[\"D_Sphere\",SPHEROID[\"unnamed\",6370000.0,0.0]],PRIMEM[\"Greenwich\",0.0],UNIT[\"Degree\",0.0174532925199433]],PROJECTION[\"Lambert_Conformal_Conic\"],PARAMETER[\"False_Easting\",0.0],PARAMETER[\"False_Northing\",0.0],PARAMETER[\"Central_Meridian\",-97.0],PARAMETER[\"Standard_Parallel_1\",30.0],PARAMETER[\"Standard_Parallel_2\",60.0],PARAMETER[\"Latitude_Of_Origin\",41.4710083007813],UNIT[\"Meter\",1.0]]\n",
      "    Map Projection of input raster : lambert_conformal_conic\n",
      "    Starting Process: Building to XMap/YMap\n",
      "    Conversion of input raster to XMap/YMap completed without error.\n",
      "  netCDF global attributes set after  0.03 seconds.\n",
      "    Raster resampling initiated...\n",
      "    The High-resolution dataset will be 100.0m\n",
      "    Projected input raster to model grid in  0.56 seconds.\n",
      "  Deriving geocentric coordinates on routing grid from bilinear interpolation of geogrid coordinates.\n",
      "    GDAL Data type derived from input array: 6 (float32)\n",
      "    GDAL Data type derived from input array: 6 (float32)\n",
      "    Raster resampling initiated...\n",
      "    The High-resolution dataset will be 100.0m\n",
      "    Projected input raster to model grid in  0.08 seconds.\n",
      "    Raster resampling initiated...\n",
      "    The High-resolution dataset will be 100.0m\n",
      "    Projected input raster to model grid in  0.07 seconds.\n",
      "  Creating CF-netCDF File.\n",
      "    Esri PE String: PROJCS[\"unnamed\",GEOGCS[\"GCS_Sphere\",DATUM[\"D_Sphere\",SPHEROID[\"unnamed\",6370000.0,0.0]],PRIMEM[\"Greenwich\",0.0],UNIT[\"Degree\",0.0174532925199433]],PROJECTION[\"Lambert_Conformal_Conic\"],PARAMETER[\"False_Easting\",0.0],PARAMETER[\"False_Northing\",0.0],PARAMETER[\"Central_Meridian\",-97.0],PARAMETER[\"Standard_Parallel_1\",30.0],PARAMETER[\"Standard_Parallel_2\",60.0],PARAMETER[\"Latitude_Of_Origin\",41.4710083007813],UNIT[\"Meter\",1.0]]\n",
      "    Map Projection of input raster : lambert_conformal_conic\n",
      "    Starting Process: Building to XMap/YMap\n",
      "    Conversion of input raster to XMap/YMap completed without error.\n",
      "    Proceeding to add LATITUDE and LONGITUDE variables after     0.05 seconds.\n",
      "  netCDF global attributes set after  0.07 seconds.\n",
      "    Raster resampling initiated...\n",
      "    The High-resolution dataset will be 100.0m\n",
      "    Projected input raster to model grid in  0.10 seconds.\n",
      "    Process: landuse written to output netCDF.\n",
      "Terrain processing step initiated...\n",
      "    Using WhiteboxTools v1.3.1 by Dr. John B. Lindsay (c) 2017-2020\n",
      "    Process: TOPOGRAPHY written to output netCDF.\n",
      "    Process: FLOWDIRECTION written to output netCDF.\n",
      "    Process: FLOWACC written to output netCDF.\n",
      "    Flow accumulation will be thresholded to build channel pixels.\n",
      "    Process: CHANNELGRID written to output netCDF.\n",
      "    Process: STREAMORDER written to output netCDF.\n",
      "    Process: RETDEPRTFAC written to output netCDF.\n",
      "    Process: OVROUGHRTFAC written to output netCDF.\n",
      "    Process: LKSATFAC written to output netCDF.\n",
      "Terrain processing step completed without error in  0.42 seconds.\n",
      "Beginning to build 2D groundwater basin inputs\n",
      "  Building groundwater inputs using FullDom LINKID local basins\n",
      "    Generating LINKID grid for building local sub-basins.\n",
      "Finished building fine-grid groundwater basin grids in  0.19 seconds\n",
      "Beginning to build coarse-grid groundwater basins and parameters\n",
      "    Found 42 basins in the watershed grid\n",
      "    Raster resampling initiated...\n",
      "    The High-resolution dataset will be 1000.0m\n",
      "    Projected input raster to model grid in  0.10 seconds.\n",
      "    Found 42 basins (potentially including nodata values) in the file after resampling to the coarse grid.\n",
      "    GDAL Data type derived from input array: 5 (int32)\n",
      "  Creating CF-netCDF File.\n",
      "    Esri PE String: PROJCS[\"unnamed\",GEOGCS[\"GCS_Sphere\",DATUM[\"D_Sphere\",SPHEROID[\"unnamed\",6370000.0,0.0]],PRIMEM[\"Greenwich\",0.0],UNIT[\"Degree\",0.0174532925199433]],PROJECTION[\"Lambert_Conformal_Conic\"],PARAMETER[\"False_Easting\",0.0],PARAMETER[\"False_Northing\",0.0],PARAMETER[\"Central_Meridian\",-97.0],PARAMETER[\"Standard_Parallel_1\",30.0],PARAMETER[\"Standard_Parallel_2\",60.0],PARAMETER[\"Latitude_Of_Origin\",41.4710083007813],UNIT[\"Meter\",1.0]]\n",
      "    Map Projection of input raster : lambert_conformal_conic\n",
      "    Starting Process: Building to XMap/YMap\n",
      "    Conversion of input raster to XMap/YMap completed without error.\n",
      "  netCDF global attributes set after  0.03 seconds.\n",
      "    NC dimensions: 16, 15\n",
      "    GWBUCKS array dimensions: 16, 15\n",
      "    Process: C:\\Users\\casali\\Documents\\Projects\\ForKevin\\OpenSource_GIS_ProProcessing\\Tutorials\\Jupyter\\Outputs\\scratchdir\\GWBASINS.nc completed without error\n",
      "    Finished building groundwater grid file in  0.04 seconds\n",
      "    Calculating size and ID parameters for basin polygons.\n",
      "    Created output bucket parameter table (.nc): C:\\Users\\casali\\Documents\\Projects\\ForKevin\\OpenSource_GIS_ProProcessing\\Tutorials\\Jupyter\\Outputs\\scratchdir\\GWBUCKPARM.nc.\n",
      "  Finished building groundwater bucket parameter table in  0.02 seconds.\n",
      "Finished building groundwater parameter files in  0.17 seconds\n",
      "Built output .zip file in  1.98 seconds.\n"
     ]
    }
   ],
   "source": [
    "import shutil\n",
    "from Build_Routing_Stack import GEOGRID_STANDALONE\n",
    "from Build_Routing_Stack import varList2D\n",
    "import wrfhydro_functions as wrfh\n",
    "\n",
    "cwd = os.getcwd()\n",
    "data_folder = os.path.join(cwd, 'Croton_Lambert')\n",
    "output_folder = os.path.join(cwd, 'Outputs')\n",
    "\n",
    "in_geogrid = os.path.join(data_folder, 'geo_em.d01.nc')\n",
    "in_dem = os.path.join(data_folder, 'NED_30m_02b_Croton.tif')\n",
    "out_zip = os.path.join(output_folder, 'croton_test.zip')\n",
    "projdir = os.path.join(output_folder, 'scratch_dir')\n",
    "regrid_factor = 10\n",
    "routing_cells = 200\n",
    "\n",
    "# Configure logging\n",
    "logfile = out_zip.replace('.zip', '.log')\n",
    "tee = wrfh.TeeNoFile(logfile, 'w')\n",
    "\n",
    "# Create scratch directory for temporary outputs\n",
    "projdir = os.path.join(output_folder, 'scratchdir')\n",
    "projdir = os.path.abspath(projdir)\n",
    "if os.path.exists(projdir):\n",
    "    shutil.rmtree(projdir)\n",
    "os.makedirs(projdir)\n",
    "\n",
    "GEOGRID_STANDALONE(inGeogrid=in_geogrid, regridFactor=regrid_factor, inDEM=in_dem,\n",
    "                   projdir=projdir, threshold=routing_cells, out_zip=out_zip, varList2D=varList2D )\n",
    "\n",
    "tee.close()\n",
    "del tee"
   ]
  },
  {
   "cell_type": "markdown",
   "metadata": {},
   "source": [
    "### Examine outputs of GIS pre-processor"
   ]
  },
  {
   "cell_type": "markdown",
   "metadata": {},
   "source": [
    "This tool takes the output zip file from the Process Geogrid script and creates a raster from each output netCDF file. The Input should be a .zip file that was created using the WRF Hydro pre-processing tools. The tool will create the folder which will contain the results if that folder does not already exist."
   ]
  },
  {
   "cell_type": "code",
   "execution_count": 10,
   "metadata": {},
   "outputs": [
    {
     "name": "stdout",
     "output_type": "stream",
     "text": [
      "  GeoTransform: (1841998.7848425123, 100.0, 0.0, 278496.6013001092, 0.0, -100.0)\n",
      "  DX: 100.0\n",
      "  DY: 100.0\n",
      "  PROJ.4 string: +proj=lcc +lat_0=41.4710083007813 +lon_0=-97 +lat_1=30 +lat_2=60 +x_0=0 +y_0=0 +R=6370000 +units=m +no_defs\n",
      "    File Created: C:\\Users\\casali\\Documents\\Projects\\ForKevin\\OpenSource_GIS_ProProcessing\\Tutorials\\Jupyter\\Outputs\\Raster_Outputs\\CHANNELGRID.tif\n",
      "    File Created: C:\\Users\\casali\\Documents\\Projects\\ForKevin\\OpenSource_GIS_ProProcessing\\Tutorials\\Jupyter\\Outputs\\Raster_Outputs\\FLOWDIRECTION.tif\n",
      "    File Created: C:\\Users\\casali\\Documents\\Projects\\ForKevin\\OpenSource_GIS_ProProcessing\\Tutorials\\Jupyter\\Outputs\\Raster_Outputs\\FLOWACC.tif\n",
      "    File Created: C:\\Users\\casali\\Documents\\Projects\\ForKevin\\OpenSource_GIS_ProProcessing\\Tutorials\\Jupyter\\Outputs\\Raster_Outputs\\TOPOGRAPHY.tif\n",
      "    File Created: C:\\Users\\casali\\Documents\\Projects\\ForKevin\\OpenSource_GIS_ProProcessing\\Tutorials\\Jupyter\\Outputs\\Raster_Outputs\\RETDEPRTFAC.tif\n",
      "    File Created: C:\\Users\\casali\\Documents\\Projects\\ForKevin\\OpenSource_GIS_ProProcessing\\Tutorials\\Jupyter\\Outputs\\Raster_Outputs\\OVROUGHRTFAC.tif\n",
      "    File Created: C:\\Users\\casali\\Documents\\Projects\\ForKevin\\OpenSource_GIS_ProProcessing\\Tutorials\\Jupyter\\Outputs\\Raster_Outputs\\STREAMORDER.tif\n",
      "    File Created: C:\\Users\\casali\\Documents\\Projects\\ForKevin\\OpenSource_GIS_ProProcessing\\Tutorials\\Jupyter\\Outputs\\Raster_Outputs\\frxst_pts.tif\n",
      "    File Created: C:\\Users\\casali\\Documents\\Projects\\ForKevin\\OpenSource_GIS_ProProcessing\\Tutorials\\Jupyter\\Outputs\\Raster_Outputs\\basn_msk.tif\n",
      "    File Created: C:\\Users\\casali\\Documents\\Projects\\ForKevin\\OpenSource_GIS_ProProcessing\\Tutorials\\Jupyter\\Outputs\\Raster_Outputs\\LAKEGRID.tif\n",
      "    File Created: C:\\Users\\casali\\Documents\\Projects\\ForKevin\\OpenSource_GIS_ProProcessing\\Tutorials\\Jupyter\\Outputs\\Raster_Outputs\\landuse.tif\n",
      "    File Created: C:\\Users\\casali\\Documents\\Projects\\ForKevin\\OpenSource_GIS_ProProcessing\\Tutorials\\Jupyter\\Outputs\\Raster_Outputs\\LKSATFAC.tif\n",
      "    File Created: C:\\Users\\casali\\Documents\\Projects\\ForKevin\\OpenSource_GIS_ProProcessing\\Tutorials\\Jupyter\\Outputs\\Raster_Outputs\\LATITUDE.tif\n",
      "    File Created: C:\\Users\\casali\\Documents\\Projects\\ForKevin\\OpenSource_GIS_ProProcessing\\Tutorials\\Jupyter\\Outputs\\Raster_Outputs\\LONGITUDE.tif\n",
      "    File Copied: GEOGRID_LDASOUT_Spatial_Metadata.nc\n",
      "  GeoTransform: (1841998.7848425123, 1000.0, 0.0, 278496.6013001092, 0.0, -1000.0)\n",
      "  DX: 1000.0\n",
      "  DY: 1000.0\n",
      "  PROJ.4 string: +proj=lcc +lat_0=41.4710083007813 +lon_0=-97 +lat_1=30 +lat_2=60 +x_0=0 +y_0=0 +R=6370000 +units=m +no_defs\n",
      "    File Created: C:\\Users\\casali\\Documents\\Projects\\ForKevin\\OpenSource_GIS_ProProcessing\\Tutorials\\Jupyter\\Outputs\\Raster_Outputs\\BASIN.tif\n",
      "    File Copied: GWBUCKPARM.nc\n"
     ]
    }
   ],
   "source": [
    "from Examine_Outputs_of_GIS_Preprocessor import examine_outputs\n",
    "from wrfhydro_functions import ZipCompat\n",
    "\n",
    "raster_outputs = os.path.join(output_folder, \"Raster_Outputs\")\n",
    "if not os.path.exists(raster_outputs):\n",
    "    os.mkdir(raster_outputs)\n",
    "\n",
    "ZipCompat(out_zip).extractall(raster_outputs)\n",
    "examine_outputs(raster_outputs, skipfiles=[])"
   ]
  },
  {
   "cell_type": "markdown",
   "metadata": {},
   "source": [
    "Now we want to take a look at the output rasters. Below, we utilize a Jupyter widget to choose each raster from a drop down menu. Take a look at some of the outputs."
   ]
  },
  {
   "cell_type": "code",
   "execution_count": 11,
   "metadata": {},
   "outputs": [
    {
     "data": {
      "application/vnd.jupyter.widget-view+json": {
       "model_id": "e15b5f8ed86f41a7b6b0a5ea244a5901",
       "version_major": 2,
       "version_minor": 0
      },
      "text/plain": [
       "interactive(children=(Dropdown(description='Variable:', index=3, options=(('Basin', 'BASIN'), ('Basin mask', '…"
      ]
     },
     "metadata": {},
     "output_type": "display_data"
    },
    {
     "data": {
      "text/plain": [
       "<function __main__.see_raster(x)>"
      ]
     },
     "execution_count": 11,
     "metadata": {},
     "output_type": "execute_result"
    }
   ],
   "source": [
    "import ipywidgets as widgets\n",
    "from ipywidgets import interact\n",
    "\n",
    "def see_raster(x):\n",
    "    src = rasterio.open(os.path.join(raster_outputs, f\"{x}.tif\"))\n",
    "    cmap, norm = cmap_options(x)\n",
    "    if x in ['TOPOGRAPHY']:\n",
    "        pyplot.imshow(src.read(1), cmap=cmap,  aspect='auto', norm=norm, interpolation='nearest', vmin=0)\n",
    "    else:\n",
    "        pyplot.imshow(src.read(1), cmap=cmap,  aspect='auto', norm=norm, interpolation='nearest')\n",
    "    cbar = pyplot.colorbar()\n",
    "    \n",
    "    # Keep the automatic aspect while scaling the image up in size\n",
    "    fig = pyplot.gcf()\n",
    "    w, h = fig.get_size_inches()\n",
    "    fig.set_size_inches(w * 1.75, h * 1.75)\n",
    "    \n",
    "    # Show image\n",
    "    pyplot.show()\n",
    "\n",
    "in_raster = widgets.Dropdown(\n",
    "    options=[('Basin', 'BASIN'), ('Basin mask', 'basn_msk'), ('Channel grid', 'CHANNELGRID'), ('Flow accumulation', 'FLOWACC'),\n",
    "            ('Flow direction', 'FLOWDIRECTION'), ('Forecast points', 'frxst_pts'), ('Lake grid', 'LAKEGRID'),\n",
    "            ('Land use', 'landuse'), ('Latitude', 'LATITUDE'), ('LKSATFAC', 'LKSATFAC'), ('Longitude', 'LONGITUDE'),\n",
    "            ('OVROUGHRTFAC', 'OVROUGHRTFAC'), ('RETDEPRTFAC', 'RETDEPRTFAC'), ('Stream order', 'STREAMORDER'),\n",
    "            ('Topography', 'TOPOGRAPHY')],\n",
    "    value='FLOWACC',\n",
    "    description='Variable:')\n",
    "\n",
    "interact(see_raster, x=in_raster)"
   ]
  },
  {
   "cell_type": "markdown",
   "metadata": {},
   "source": [
    "We can also look at the raster data projected onto a map. Use the dropdown widget below the map to add rasters as layers to the map. Use the menu in the top right corner of the map to turn layers on and off. "
   ]
  },
  {
   "cell_type": "code",
   "execution_count": 12,
   "metadata": {},
   "outputs": [
    {
     "data": {
      "application/vnd.jupyter.widget-view+json": {
       "model_id": "3b0a647875de438aa386eef1032b89c6",
       "version_major": 2,
       "version_minor": 0
      },
      "text/plain": [
       "Map(center=[41.47100098314024, -73.74365045481873], controls=(ZoomControl(options=['position', 'zoom_in_text',…"
      ]
     },
     "metadata": {},
     "output_type": "display_data"
    }
   ],
   "source": [
    "m3 = Map(center=map_center, zoom=10, scroll_wheel_zoom=True)\n",
    "\n",
    "m3.add_control(ScaleControl(position='bottomleft'))\n",
    "m3.add_control(FullScreenControl())\n",
    "control = LayersControl(position='topright')\n",
    "m3.add_control(control)\n",
    "\n",
    "m3.layout.width = '950px'\n",
    "m3.layout.height = '750px'\n",
    "\n",
    "m3"
   ]
  },
  {
   "cell_type": "code",
   "execution_count": 13,
   "metadata": {
    "scrolled": true
   },
   "outputs": [
    {
     "data": {
      "application/vnd.jupyter.widget-view+json": {
       "model_id": "461396b1aa42432cb631ca3e7ab5ad79",
       "version_major": 2,
       "version_minor": 0
      },
      "text/plain": [
       "interactive(children=(Dropdown(description='Variable:', index=2, options=(('Basin', 'BASIN'), ('Flow accumulat…"
      ]
     },
     "metadata": {},
     "output_type": "display_data"
    },
    {
     "data": {
      "text/plain": [
       "<function __main__.f(x)>"
      ]
     },
     "execution_count": 13,
     "metadata": {},
     "output_type": "execute_result"
    }
   ],
   "source": [
    "def f(x):\n",
    "    r_path = os.path.join(raster_outputs, f\"{x}.tif\")\n",
    "    show_raster_map(r_path, m3, b_shp, output_folder)\n",
    "\n",
    "in_raster = widgets.Dropdown(\n",
    "    options=[('Basin', 'BASIN'), ('Flow accumulation', 'FLOWACC'), ('Flow direction', 'FLOWDIRECTION'), \n",
    "             ('Land use', 'landuse'), ('Stream order', 'STREAMORDER'), ('Topography', 'TOPOGRAPHY')],\n",
    "    value='FLOWDIRECTION',\n",
    "    description='Variable:',\n",
    ")\n",
    "interact(f, x=in_raster)"
   ]
  },
  {
   "cell_type": "code",
   "execution_count": null,
   "metadata": {},
   "outputs": [],
   "source": []
  }
 ],
 "metadata": {
  "kernelspec": {
   "display_name": "Python 3",
   "language": "python",
   "name": "python3"
  },
  "language_info": {
   "codemirror_mode": {
    "name": "ipython",
    "version": 3
   },
   "file_extension": ".py",
   "mimetype": "text/x-python",
   "name": "python",
   "nbconvert_exporter": "python",
   "pygments_lexer": "ipython3",
   "version": "3.7.8"
  }
 },
 "nbformat": 4,
 "nbformat_minor": 4
}

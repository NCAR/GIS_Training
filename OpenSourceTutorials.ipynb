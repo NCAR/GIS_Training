{
 "cells": [
  {
   "cell_type": "markdown",
   "metadata": {},
   "source": [
    "# Open Source GIS Pre-Processing Tutorial"
   ]
  },
  {
   "cell_type": "markdown",
   "metadata": {},
   "source": [
    "## Table of Contents\n",
    "1. [Create domain boundary shapefile](#Create-domain-boundary-shapefile)<br>\n",
    "2. [Build geotiff from geogrid file](#Build-geotiff-from-geogrid-file)<br>\n",
    "3. [Build routing stack](#Build-routing-stack)<br>\n",
    "4. [Examine outputs of GIS pre-processor](#Examine-outputs-of-GIS-pre-processor)\n"
   ]
  },
  {
   "cell_type": "markdown",
   "metadata": {},
   "source": [
    "## Create domain boundary shapefile"
   ]
  },
  {
   "cell_type": "markdown",
   "metadata": {},
   "source": [
    "This tool takes an WRF Geogrid file and creates a single polygon shapefile that makes up the boundary of the domain of the M-grid (HGT_M, for example)."
   ]
  },
  {
   "cell_type": "markdown",
   "metadata": {},
   "source": [
    "#### Get file paths"
   ]
  },
  {
   "cell_type": "code",
   "execution_count": null,
   "metadata": {},
   "outputs": [],
   "source": [
    "import os\n",
    "import Create_Domain_Boundary_Shapefile\n",
    "\n",
    "cwd = os.getcwd()\n",
    "data_folder = os.path.join(cwd, 'Croton_Lambert')\n",
    "in_geogrid = os.path.join(data_folder, 'geo_em.d01.nc')\n",
    "output_folder = os.path.join(cwd, 'Outputs')"
   ]
  },
  {
   "cell_type": "markdown",
   "metadata": {},
   "source": [
    "#### Call help for the script on the command line"
   ]
  },
  {
   "cell_type": "code",
   "execution_count": null,
   "metadata": {},
   "outputs": [],
   "source": [
    "! python Create_Domain_Boundary_Shapefile.py -h"
   ]
  },
  {
   "cell_type": "markdown",
   "metadata": {},
   "source": [
    "#### Run the script on the command line"
   ]
  },
  {
   "cell_type": "code",
   "execution_count": null,
   "metadata": {},
   "outputs": [],
   "source": [
    "! python Create_Domain_Boundary_Shapefile.py -i {in_geogrid} -o {output_folder}"
   ]
  },
  {
   "cell_type": "markdown",
   "metadata": {},
   "source": [
    "#### View the output boundary shapefile"
   ]
  },
  {
   "cell_type": "code",
   "execution_count": null,
   "metadata": {
    "scrolled": false
   },
   "outputs": [],
   "source": [
    "import json\n",
    "import geopandas\n",
    "from ipyleaflet import Map, GeoJSON, ScaleControl, FullScreenControl, basemaps, SplitMapControl, basemap_to_tiles, LayersControl\n",
    "\n",
    "boundary_shp = os.path.join(output_folder,'geo_em.d01_boundary.shp')\n",
    "b_shp = geopandas.read_file(boundary_shp)\n",
    "b_shp = b_shp.to_crs(epsg=4326)\n",
    "\n",
    "b_json = os.path.join(output_folder, 'boundary.json')\n",
    "b_shp.to_file(b_json, driver='GeoJSON')\n",
    "\n",
    "with open(b_json, 'r') as f:\n",
    "    data = json.load(f)\n",
    "    \n",
    "m = Map(center=(41.50, -73.73), zoom=10)\n",
    "\n",
    "geo_json = GeoJSON(data=data, name='Domain boundary')\n",
    "m.add_control(ScaleControl(position='bottomleft'))\n",
    "m.add_control(FullScreenControl())\n",
    "\n",
    "right_layer = basemap_to_tiles(basemap=basemaps.OpenStreetMap.Mapnik)\n",
    "left_layer = basemap_to_tiles(basemap=basemaps.Esri.WorldImagery)\n",
    "\n",
    "control = SplitMapControl(left_layer=left_layer, right_layer=right_layer)\n",
    "m.add_control(control)\n",
    "m.add_layer(geo_json)\n",
    "\n",
    "control = LayersControl(position='topright')\n",
    "m.add_control(control)\n",
    "\n",
    "m"
   ]
  },
  {
   "cell_type": "markdown",
   "metadata": {},
   "source": [
    "## Build geotiff from geogrid file"
   ]
  },
  {
   "cell_type": "markdown",
   "metadata": {},
   "source": [
    "This is a program to export >=2D variables from a WRF-Hydro input file (geogrid or Fulldom_hires) file to an output raster format, with all spatial and coordinate system metadata. If a 3-dimensional variable is selected, individual raster bands will be created in the output raster for each index in the 3rd dimension. If a 4-dimensional variable is selected, the first index in the 4th dimension will be selected and the variable will be treated as a 3-dimensional variable described above."
   ]
  },
  {
   "cell_type": "markdown",
   "metadata": {},
   "source": [
    "#### Run the script using Python"
   ]
  },
  {
   "cell_type": "code",
   "execution_count": null,
   "metadata": {},
   "outputs": [],
   "source": [
    "import rasterio\n",
    "from matplotlib import pyplot\n",
    "from Build_GeoTiff_From_Geogrid_File import build_geogrid_raster\n",
    "\n",
    "in_geogrid = os.path.join(data_folder, 'geo_em.d01.nc')\n",
    "output_folder = os.path.join(cwd, 'Outputs')\n",
    "in_var = \"HGT_M\"\n",
    "out_file = os.path.join(output_folder, f'{in_var}.tif')\n",
    "\n",
    "build_geogrid_raster(in_geogrid, in_var, out_file)"
   ]
  },
  {
   "cell_type": "markdown",
   "metadata": {},
   "source": [
    "#### View outputs"
   ]
  },
  {
   "cell_type": "code",
   "execution_count": null,
   "metadata": {},
   "outputs": [],
   "source": [
    "import matplotlib\n",
    "from osgeo import gdal\n",
    "from ipyleaflet import ImageOverlay\n",
    "import warnings\n",
    "warnings.filterwarnings(\"ignore\")\n",
    "    \n",
    "\n",
    "def show_raster_map(raster_path, map_id):\n",
    "    # Make new folder if does not exist\n",
    "    raster_outputs_prj = os.path.join(output_folder, 'Raster_Outputs_Prj')\n",
    "    if not os.path.exists(raster_outputs_prj):\n",
    "        os.mkdir(raster_outputs_prj)\n",
    "    \n",
    "    # Reproject raster\n",
    "    input_raster = gdal.Open(raster_path)\n",
    "    file_name = os.path.basename(raster_path)\n",
    "    output_raster = os.path.join(raster_outputs_prj, file_name)\n",
    "    gdal.Warp(output_raster, input_raster, dstSRS='EPSG:4326')\n",
    "    \n",
    "    # Open in rasterio, give colormap, make no data transparent, save as png\n",
    "    src = rasterio.open(output_raster)\n",
    "    var_name = os.path.basename(raster_path).replace(\".tif\",\"\")\n",
    "\n",
    "    if var_name in ['LATITUDE', 'frxst_pts']:\n",
    "        cmap = pyplot.get_cmap('binary')\n",
    "        pyplot.imshow(src.read(1), cmap=cmap,  aspect='auto', vmin=0.00001)\n",
    "        cmap.set_under('k', alpha=0)\n",
    "    elif var_name in ['CHANNELGRID']:\n",
    "        cmap = pyplot.get_cmap('binary')\n",
    "        pyplot.imshow(src.read(1), cmap=cmap,  aspect='auto', vmax=-1)\n",
    "        cmap.set_under('k', alpha=0)\n",
    "    elif var_name in ['LONGITUDE']:\n",
    "        cmap = pyplot.get_cmap('binary')\n",
    "        pyplot.imshow(src.read(1), cmap=cmap,  aspect='auto', vmax=-1)\n",
    "        cmap.set_over('k', alpha=0)\n",
    "    elif var_name in ['TOPOGRAPHY']:\n",
    "        cmap = pyplot.get_cmap('BrBG')\n",
    "        pyplot.imshow(src.read(1), cmap=cmap,  aspect='auto', vmin=1)\n",
    "        cmap.set_under('k', alpha=0)\n",
    "    elif var_name in ['FLOWDIRECTION']:\n",
    "        colors = ['#5959a6', '#806c93', '#a65959', '#a68659', '#a6a659', '#93a659', '#669966', '#669988', '#999999']\n",
    "        scale = [1, 2, 4, 8, 16, 32, 64, 128, 255]\n",
    "        cmap = matplotlib.colors.ListedColormap(colors)\n",
    "        norm = matplotlib.colors.BoundaryNorm(scale, len(colors))\n",
    "        pyplot.imshow(src.read(1), cmap=cmap,  aspect='auto', norm=norm, interpolation='nearest', vmin=0.00001)\n",
    "        cmap.set_under('k', alpha=0)\n",
    "    elif var_name in ['landuse']:\n",
    "        colors = ['#ed0000', '#dbd83d', '#aa7028', '#fbf65d', '#e2e2c1', '#ccba7c', '#dcca8f', '#fde9aa', '#68aa63', '#85c724',\n",
    "                  '#38814e', '#1c6330', '#b5c98e', '#476ba0', '#70a3ba', '#bad8ea', '#b2ada3', '#c9c977', '#a58c30', '#d1ddf9',\n",
    "                  '#d1ddf9']\n",
    "        scale = [1, 2, 3, 4, 5, 7, 8, 9, 10, 11, 12, 13, 14, 15, 16, 17, 18, 19, 20, 22, 23]\n",
    "        cmap = matplotlib.colors.ListedColormap(colors)\n",
    "        norm = matplotlib.colors.BoundaryNorm(scale, len(colors))\n",
    "        pyplot.imshow(src.read(1), cmap=cmap,  aspect='auto', norm=norm, interpolation='nearest', vmin=0)\n",
    "        cmap.set_under('k', alpha=0)\n",
    "    elif var_name in ['STREAMORDER']:\n",
    "        mask = data==241\n",
    "        cmap = pyplot.get_cmap('Blues')\n",
    "        pyplot.imshow(src.read(1), cmap=cmap,  aspect='auto', vmin=0.00001)\n",
    "        cmap.set_under('k', alpha=0)\n",
    "    else:\n",
    "        cmap = pyplot.get_cmap('Blues')\n",
    "        pyplot.imshow(src.read(1), cmap=cmap,  aspect='auto', vmin=1)\n",
    "        cmap.set_under('k', alpha=0)\n",
    "    \n",
    "    pyplot.axis('off')\n",
    "    new_file_name = file_name.replace('.tif', '.png')\n",
    "    pyplot.savefig(os.path.join(raster_outputs_prj, new_file_name), transparent=True, bbox_inches='tight')\n",
    "    \n",
    "    # get bounds from boundary shapefile\n",
    "    bounds_df = (b_shp.bounds)\n",
    "    minx = bounds_df.iloc[0][0]\n",
    "    miny = bounds_df.iloc[0][1]\n",
    "    maxx = bounds_df.iloc[0][2]\n",
    "    maxy = bounds_df.iloc[0][3]\n",
    "\n",
    "    bounds = ((miny, minx), (maxy, maxx))\n",
    "    \n",
    "    # Overlay image on map\n",
    "    map_name = new_file_name.replace(\".png\",\"\")\n",
    "    image = ImageOverlay(\n",
    "        url=f'http://localhost:8888/tree/Outputs/Raster_Outputs_prj/{new_file_name}',\n",
    "        bounds=bounds, name=map_name)\n",
    "    \n",
    "    map_id.add_layer(image)\n",
    "    pyplot.close()"
   ]
  },
  {
   "cell_type": "code",
   "execution_count": null,
   "metadata": {},
   "outputs": [],
   "source": [
    "m2 = Map(center=(41.50, -73.73), zoom=10)\n",
    "\n",
    "m2.add_control(ScaleControl(position='bottomleft'))\n",
    "m2.add_control(FullScreenControl())\n",
    "control = LayersControl(position='topright')\n",
    "m2.add_control(control)\n",
    "\n",
    "m2"
   ]
  },
  {
   "cell_type": "code",
   "execution_count": null,
   "metadata": {},
   "outputs": [],
   "source": [
    "show_raster_map(out_file, m2)"
   ]
  },
  {
   "cell_type": "markdown",
   "metadata": {},
   "source": [
    "## Build routing stack"
   ]
  },
  {
   "cell_type": "markdown",
   "metadata": {},
   "source": [
    "This is a program to perform the full routing-stack GIS pre-processing for WRF-Hydro. The inputs will be related to the domain, the desired routing nest factor, and other options and parameter values. The output will be a routing stack zip file with WRF-Hydro domain and parameter files."
   ]
  },
  {
   "cell_type": "markdown",
   "metadata": {},
   "source": [
    "• Required:<br>\n",
    "&emsp;-WRF GEOGRID file (.nc)<br>\n",
    "&emsp;-High-resolution Elevation<br>\n",
    "&emsp;&emsp;-Elevation file (Esri GRID, GeoTIFF, etc.)<br>\n",
    "&emsp;&emsp;-Mosaic Dataset<br>\n",
    "\n",
    "• Parameters<br>\n",
    "&emsp;-Regridding Factor – nesting relationship of routing:land grids<br>\n",
    "&emsp;-Minimum basin size (in routing grid cells)<br>\n",
    "&emsp;-OVROUGHRTFAC – constant<br>\n",
    "&emsp;-RETDEPRTFAC – constant<br>\n",
    "&emsp;-LKSATFAC – constant<br>\n",
    "\n",
    "• Optional:<br>\n",
    "&emsp;-Station Locations (.csv)<br>\n",
    "&emsp;-Lake Polygons (polygon feature class or .shp)<br>"
   ]
  },
  {
   "cell_type": "markdown",
   "metadata": {},
   "source": [
    "#### Using Python"
   ]
  },
  {
   "cell_type": "code",
   "execution_count": null,
   "metadata": {},
   "outputs": [],
   "source": [
    "import shutil\n",
    "from Build_Routing_Stack import GEOGRID_STANDALONE\n",
    "from Build_Routing_Stack import varList2D\n",
    "import wrfhydro_functions as wrfh\n",
    "\n",
    "cwd = os.getcwd()\n",
    "data_folder = os.path.join(cwd, 'Croton_Lambert')\n",
    "output_folder = os.path.join(cwd, 'Outputs')\n",
    "\n",
    "in_geogrid = os.path.join(data_folder, 'geo_em.d01.nc')\n",
    "in_dem = os.path.join(data_folder, 'NED_30m_02b_Croton.tif')\n",
    "out_zip = os.path.join(output_folder, 'croton_test.zip')\n",
    "projdir = os.path.join(output_folder, 'scratch_dir')\n",
    "regrid_factor = 10\n",
    "routing_cells = 200\n",
    "\n",
    "# Configure logging\n",
    "logfile = out_zip.replace('.zip', '.log')\n",
    "tee = wrfh.TeeNoFile(logfile, 'w')\n",
    "\n",
    "# Create scratch directory for temporary outputs\n",
    "projdir = os.path.join(output_folder, 'scratchdir')\n",
    "projdir = os.path.abspath(projdir)\n",
    "if os.path.exists(projdir):\n",
    "    shutil.rmtree(projdir)\n",
    "os.makedirs(projdir)\n",
    "\n",
    "GEOGRID_STANDALONE(inGeogrid=in_geogrid, regridFactor=regrid_factor, inDEM=in_dem,\n",
    "                   projdir=projdir, threshold=routing_cells, out_zip=out_zip, varList2D=varList2D )\n",
    "\n",
    "tee.close()\n",
    "del tee"
   ]
  },
  {
   "cell_type": "markdown",
   "metadata": {},
   "source": [
    "#### Using command line"
   ]
  },
  {
   "cell_type": "markdown",
   "metadata": {},
   "source": [
    "On the command line, type 'python' followed by the name of the script and the parameters need by the script. If you are unsure of what parameters are necessary, type '-h' to call the help message."
   ]
  },
  {
   "cell_type": "code",
   "execution_count": null,
   "metadata": {},
   "outputs": [],
   "source": [
    "os.chdir(cwd)\n",
    "! python Build_Routing_Stack.py -h"
   ]
  },
  {
   "cell_type": "markdown",
   "metadata": {},
   "source": [
    "### Examine outputs of GIS pre-processor"
   ]
  },
  {
   "cell_type": "markdown",
   "metadata": {},
   "source": [
    "This tool takes the output zip file from the ProcessGeogrid script and creates a raster from each output NetCDF file. The Input should be a .zip file that was created using the WRF Hydro pre-processing tools. The tool will create the folder which will contain the results (out_folder), if that folder does not already exist."
   ]
  },
  {
   "cell_type": "code",
   "execution_count": null,
   "metadata": {},
   "outputs": [],
   "source": [
    "from Examine_Outputs_of_GIS_Preprocessor import examine_outputs\n",
    "from wrfhydro_functions import ZipCompat\n",
    "\n",
    "raster_outputs = os.path.join(output_folder, \"Raster_Outputs\")\n",
    "if not os.path.exists(raster_outputs):\n",
    "    os.mkdir(raster_outputs)\n",
    "\n",
    "ZipCompat(out_zip).extractall(raster_outputs)\n",
    "examine_outputs(raster_outputs, skipfiles=[])"
   ]
  },
  {
   "cell_type": "code",
   "execution_count": null,
   "metadata": {},
   "outputs": [],
   "source": [
    "m3 = Map(center=(41.50, -73.73), zoom=10)\n",
    "\n",
    "m3.add_control(ScaleControl(position='bottomleft'))\n",
    "m3.add_control(FullScreenControl())\n",
    "control = LayersControl(position='topright')\n",
    "m3.add_control(control)\n",
    "\n",
    "m3"
   ]
  },
  {
   "cell_type": "code",
   "execution_count": null,
   "metadata": {},
   "outputs": [],
   "source": [
    "import ipywidgets as widgets\n",
    "from ipywidgets import interact\n",
    "\n",
    "def f(x):\n",
    "    r_path = os.path.join(raster_outputs, f\"{x}.tif\")\n",
    "    show_raster_map(r_path, m3)\n",
    "\n",
    "in_raster = widgets.Dropdown(\n",
    "    options=[('Basin', 'BASIN'), ('Flow accumulation', 'FLOWACC'), ('Flow direction', 'FLOWDIRECTION'), \n",
    "             ('Land use', 'landuse'), ('Stream order', 'STREAMORDER'), ('Topography', 'TOPOGRAPHY')],\n",
    "    value='FLOWDIRECTION',\n",
    "    description='Variable:',\n",
    ")\n",
    "interact(f, x=in_raster)"
   ]
  },
  {
   "cell_type": "code",
   "execution_count": null,
   "metadata": {},
   "outputs": [],
   "source": [
    "def see_raster(x):\n",
    "    src = rasterio.open(os.path.join(raster_outputs, f\"{x}.tif\"))\n",
    "    if x in ['LATITUDE', 'LONGITUDE']:\n",
    "        cmap='binary'\n",
    "    else:\n",
    "        cmap='turbo'\n",
    "    pyplot.imshow(src.read(1), cmap=cmap,  aspect='auto')\n",
    "    pyplot.show()\n",
    "\n",
    "in_raster = widgets.Dropdown(\n",
    "    options=[('Basin', 'BASIN'), ('Basin mask', 'basn_msk'), ('Channel grid', 'CHANNELGRID'), ('Flow accumulation', 'FLOWACC'),\n",
    "            ('Flow direction', 'FLOWDIRECTION'), ('Forecast points', 'frxst_pts'), ('Lake grid', 'LAKEGRID'),\n",
    "            ('Land use', 'landuse'), ('Latitude', 'LATITUDE'), ('LKSATFAC', 'LKSATFAC'), ('Longitude', 'LONGITUDE'),\n",
    "            ('OVROUGHRTFAC', 'OVROUGHRTFAC'), ('RETDEPRTFAC', 'RETDEPRTFAC'), ('Stream order', 'STREAMORDER'),\n",
    "            ('Topography', 'TOPOGRAPHY')],\n",
    "    value='FLOWACC',\n",
    "    description='Variable:',\n",
    ")\n",
    "\n",
    "interact(see_raster, x=in_raster)"
   ]
  },
  {
   "cell_type": "code",
   "execution_count": null,
   "metadata": {},
   "outputs": [],
   "source": []
  }
 ],
 "metadata": {
  "kernelspec": {
   "display_name": "Python 3",
   "language": "python",
   "name": "python3"
  },
  "language_info": {
   "codemirror_mode": {
    "name": "ipython",
    "version": 3
   },
   "file_extension": ".py",
   "mimetype": "text/x-python",
   "name": "python",
   "nbconvert_exporter": "python",
   "pygments_lexer": "ipython3",
   "version": "3.7.8"
  }
 },
 "nbformat": 4,
 "nbformat_minor": 4
}

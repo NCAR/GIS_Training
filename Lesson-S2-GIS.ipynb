{
 "cells": [
  {
   "cell_type": "markdown",
   "metadata": {},
   "source": [
    "# Open Source GIS Pre-Processing Tutorial"
   ]
  },
  {
   "cell_type": "markdown",
   "metadata": {},
   "source": [
    "## Table of Contents\n",
    "1. [Create domain boundary shapefile](#Create-domain-boundary-shapefile)<br>\n",
    "2. [Build geotiff from geogrid file](#Build-geotiff-from-geogrid-file)<br>\n",
    "3. [Build routing stack](#Build-routing-stack)<br>\n",
    "4. [Examine outputs of GIS pre-processor](#Examine-outputs-of-GIS-pre-processor)\n"
   ]
  },
  {
   "cell_type": "markdown",
   "metadata": {},
   "source": [
    "## Create domain boundary shapefile"
   ]
  },
  {
   "cell_type": "markdown",
   "metadata": {},
   "source": [
    "This tool takes an WRF Geogrid file and creates a single polygon shapefile that makes up the boundary of the domain of the M-grid (HGT_M, for example)."
   ]
  },
  {
   "cell_type": "markdown",
   "metadata": {},
   "source": [
    "#### Get file paths\n",
    "In this cell, variables are created that point to the file paths of the test data and a folder to store the output data created by these tools"
   ]
  },
  {
   "cell_type": "code",
   "execution_count": null,
   "metadata": {},
   "outputs": [],
   "source": [
    "import os\n",
    "\n",
    "gis_data_folder = \"/home/docker/wrf-hydro-training/GIS_data\"\n",
    "\n",
    "os.chdir(gis_data_folder)\n",
    "cwd = os.getcwd()\n",
    "\n",
    "data_folder = os.path.join(cwd, 'Croton_Lambert')\n",
    "in_geogrid = os.path.join(data_folder, 'geo_em.d01.nc')\n",
    "output_folder = os.path.join(cwd, 'Outputs')"
   ]
  },
  {
   "cell_type": "markdown",
   "metadata": {},
   "source": [
    "#### Call help for the script on the command line\n",
    "This is an example of the syntax for calling the Create Domain Boundary Shapefile tool on the command line. By following the tool with '-h', we are able to call the help arguement which explains the purpose of the tool, shows the different arguements we can use for this tool, as well as the descriptions for each arguement. \n",
    "\n",
    "It is not necessary to use the exclamation point on the command line, but it must be used to run this example in Jupyter. "
   ]
  },
  {
   "cell_type": "code",
   "execution_count": null,
   "metadata": {},
   "outputs": [],
   "source": [
    "import Create_Domain_Boundary_Shapefile\n",
    "! python Create_Domain_Boundary_Shapefile.py -h"
   ]
  },
  {
   "cell_type": "markdown",
   "metadata": {},
   "source": [
    "#### Run the script on the command line\n",
    "Now that we know what arguements are needed for this tool, we can call those arguements and run the tool. For this tool, we only need to specify the file path to the geogrid file and an output folder to save the result. \n",
    "\n",
    "The result of this tool is a shapefile that shows the geographic boundary of the domain of the geogrid file. \n",
    "\n",
    "When running this tool in Jupyter, we can use brackets around our variables to use with our parameters, however on the command line it is necessary to use a file path."
   ]
  },
  {
   "cell_type": "code",
   "execution_count": null,
   "metadata": {},
   "outputs": [],
   "source": [
    "! python Create_Domain_Boundary_Shapefile.py -i {in_geogrid} -o {output_folder}"
   ]
  },
  {
   "cell_type": "markdown",
   "metadata": {},
   "source": [
    "#### View the output boundary shapefile\n",
    "\n",
    "Now that the domain boundary shapefile has been created, we want to see where it is on a map. This cell creates a map and adds the domain boundary as a layer. Use the map to explore the domain. A swipe feature allows the basemap to be changed to and from OpenStreetMap and satellite imagery. "
   ]
  },
  {
   "cell_type": "code",
   "execution_count": null,
   "metadata": {
    "scrolled": false
   },
   "outputs": [],
   "source": [
    "import json\n",
    "import geopandas\n",
    "from ipyleaflet import Map, GeoJSON, ScaleControl, FullScreenControl, basemaps, SplitMapControl, basemap_to_tiles, LayersControl\n",
    "\n",
    "import warnings\n",
    "warnings.filterwarnings(\"ignore\")\n",
    "\n",
    "# Setup display items\n",
    "boundary_shp = os.path.join(output_folder,'geo_em.d01_boundary.shp')\n",
    "b_shp = geopandas.read_file(boundary_shp)\n",
    "b_shp = b_shp.to_crs(epsg=4326)\n",
    "\n",
    "# Export vector to GeoJSON\n",
    "b_json = os.path.join(output_folder, 'boundary.json')\n",
    "b_shp.to_file(b_json, driver='GeoJSON')\n",
    "\n",
    "# Read GeoJSON\n",
    "with open(b_json, 'r') as f:\n",
    "    data = json.load(f)\n",
    "    \n",
    "# Obtain vector center point\n",
    "x = b_shp.geometry.centroid.x\n",
    "y = b_shp.geometry.centroid.y\n",
    "map_center = y[0], x[0]\n",
    "\n",
    "# Instantiate map object\n",
    "m = Map(center=(41.50, -73.73), zoom=10, scroll_wheel_zoom=True)\n",
    "\n",
    "# Read GeoJSON\n",
    "geo_json = GeoJSON(data=data, name='Domain boundary')\n",
    "m.add_control(ScaleControl(position='bottomleft'))\n",
    "m.add_control(FullScreenControl())\n",
    "\n",
    "# Define basemaps to swipe between\n",
    "right_layer = basemap_to_tiles(basemap=basemaps.OpenStreetMap.Mapnik)\n",
    "left_layer = basemap_to_tiles(basemap=basemaps.Esri.WorldImagery)\n",
    "\n",
    "# Setup basemap swipe control\n",
    "control = SplitMapControl(left_layer=left_layer, right_layer=right_layer)\n",
    "m.add_control(control)\n",
    "m.add_layer(geo_json)\n",
    "\n",
    "control = LayersControl(position='topright')\n",
    "m.add_control(control)\n",
    "\n",
    "# Resize map\n",
    "m.layout.width = '950px'\n",
    "m.layout.height = '750px'\n",
    "\n",
    "# Draw map\n",
    "m"
   ]
  },
  {
   "cell_type": "markdown",
   "metadata": {},
   "source": [
    "## Build geotiff from geogrid file"
   ]
  },
  {
   "cell_type": "markdown",
   "metadata": {},
   "source": [
    "This is a program to export >=2D variables from a WRF-Hydro input file (geogrid or Fulldom_hires) file to an output raster format, with all spatial and coordinate system metadata. If a 3-dimensional variable is selected, individual raster bands will be created in the output raster for each index in the 3rd dimension. If a 4-dimensional variable is selected, the first index in the 4th dimension will be selected and the variable will be treated as a 3-dimensional variable described above."
   ]
  },
  {
   "cell_type": "markdown",
   "metadata": {},
   "source": [
    "#### Run the script using Python\n",
    "We will run this tool using Python rather than the command line method. The tool takes three input parameters: the geogrid file, a variable from that geogrid file, and a path for the output file. For this example, we will use the height in meters, \"HGT_M\", variable."
   ]
  },
  {
   "cell_type": "code",
   "execution_count": null,
   "metadata": {},
   "outputs": [],
   "source": [
    "import rasterio\n",
    "from matplotlib import pyplot\n",
    "from Build_GeoTiff_From_Geogrid_File import build_geogrid_raster\n",
    "\n",
    "in_geogrid = os.path.join(data_folder, 'geo_em.d01.nc')\n",
    "output_folder = os.path.join(cwd, 'Outputs')\n",
    "in_var = \"HGT_M\"\n",
    "out_file = os.path.join(output_folder, f'{in_var}.tif')\n",
    "\n",
    "build_geogrid_raster(in_geogrid, in_var, out_file)"
   ]
  },
  {
   "cell_type": "markdown",
   "metadata": {},
   "source": [
    "#### View outputs\n",
    "Now that the tool has completed, we want to take a look at the output. We will create another map and load the data as a layer. "
   ]
  },
  {
   "cell_type": "code",
   "execution_count": null,
   "metadata": {},
   "outputs": [],
   "source": [
    "import matplotlib\n",
    "from osgeo import gdal\n",
    "from ipyleaflet import ImageOverlay\n",
    "from jupyter_functions import cmap_options, show_raster_map\n",
    "\n",
    "m2 = Map(center=map_center, zoom=10, scroll_wheel_zoom=True)\n",
    "\n",
    "m2.add_control(ScaleControl(position='bottomleft'))\n",
    "m2.add_control(FullScreenControl())\n",
    "control = LayersControl(position='topright')\n",
    "m2.add_control(control)\n",
    "\n",
    "m2.layout.width = '950px'\n",
    "m2.layout.height = '750px'\n",
    "\n",
    "m2"
   ]
  },
  {
   "cell_type": "code",
   "execution_count": null,
   "metadata": {},
   "outputs": [],
   "source": [
    "show_raster_map(out_file, m2, b_shp, output_folder)"
   ]
  },
  {
   "cell_type": "markdown",
   "metadata": {},
   "source": [
    "## Build routing stack"
   ]
  },
  {
   "cell_type": "markdown",
   "metadata": {},
   "source": [
    "This is a program to perform the full routing-stack GIS pre-processing for WRF-Hydro. The inputs will be related to the domain, the desired routing nest factor, and other options and parameter values. The output will be a routing stack zip file with WRF-Hydro domain and parameter files."
   ]
  },
  {
   "cell_type": "markdown",
   "metadata": {},
   "source": [
    "• Required:<br>\n",
    "&emsp;-WRF GEOGRID file (.nc)<br>\n",
    "&emsp;-High-resolution Elevation<br>\n",
    "&emsp;&emsp;-Elevation file (Esri GRID, GeoTIFF, etc.)<br>\n",
    "&emsp;&emsp;-Mosaic Dataset<br>\n",
    "\n",
    "• Parameters<br>\n",
    "&emsp;-Regridding Factor – nesting relationship of routing:land grids<br>\n",
    "&emsp;-Minimum basin size (in routing grid cells)<br>\n",
    "&emsp;-OVROUGHRTFAC – constant<br>\n",
    "&emsp;-RETDEPRTFAC – constant<br>\n",
    "&emsp;-LKSATFAC – constant<br>\n",
    "\n",
    "• Optional:<br>\n",
    "&emsp;-Station Locations (.csv)<br>\n",
    "&emsp;-Lake Polygons (polygon feature class or .shp)<br>"
   ]
  },
  {
   "cell_type": "markdown",
   "metadata": {},
   "source": [
    "#### Use command line to view the help message\n",
    "This tool has many different parameters and possible configurations. Using the command line, we can take a look at the different arguements that can be used, if they are required or optional, and what their default values are."
   ]
  },
  {
   "cell_type": "code",
   "execution_count": null,
   "metadata": {},
   "outputs": [],
   "source": [
    "os.chdir(cwd)\n",
    "! python Build_Routing_Stack.py -h"
   ]
  },
  {
   "cell_type": "markdown",
   "metadata": {},
   "source": [
    "#### Using command line to run the tool\n",
    "We will begin by assigning file paths to variables, then use those variables in the command line tool."
   ]
  },
  {
   "cell_type": "code",
   "execution_count": null,
   "metadata": {},
   "outputs": [],
   "source": [
    "import Build_Routing_Stack\n",
    "\n",
    "in_geogrid = os.path.join(data_folder, 'geo_em.d01.nc')\n",
    "lakes = os.path.join(data_folder, 'lake_shapes', 'lakes.shp')\n",
    "csv = os.path.join(data_folder, 'croton_frxst_pts_FOSS.csv')\n",
    "in_dem = os.path.join(data_folder, 'NED_30m_02b_Croton.tif')\n",
    "regrid_factor = 4\n",
    "routing_cells = 20\n",
    "out_zip = os.path.join(output_folder, 'croton_test.zip')\n",
    "\n",
    "! python Build_Routing_Stack.py -i {in_geogrid} -l {lakes} --CSV {csv} -d {in_dem} -R {regrid_factor} -t {routing_cells} -o {out_zip}"
   ]
  },
  {
   "cell_type": "markdown",
   "metadata": {},
   "source": [
    "### Examine outputs of GIS pre-processor"
   ]
  },
  {
   "cell_type": "markdown",
   "metadata": {},
   "source": [
    "This tool takes the output zip file from the Process Geogrid script and creates a raster from each output netCDF file. The Input should be a .zip file that was created using the WRF Hydro pre-processing tools. The tool will create the folder which will contain the results if that folder does not already exist."
   ]
  },
  {
   "cell_type": "code",
   "execution_count": null,
   "metadata": {},
   "outputs": [],
   "source": [
    "from Examine_Outputs_of_GIS_Preprocessor import examine_outputs\n",
    "from wrfhydro_functions import ZipCompat\n",
    "\n",
    "raster_outputs = os.path.join(output_folder, \"Raster_Outputs\")\n",
    "if not os.path.exists(raster_outputs):\n",
    "    os.mkdir(raster_outputs)\n",
    "\n",
    "ZipCompat(out_zip).extractall(raster_outputs)\n",
    "examine_outputs(raster_outputs, skipfiles=[])"
   ]
  },
  {
   "cell_type": "markdown",
   "metadata": {},
   "source": [
    "Now we want to take a look at the output rasters. Below, we utilize a Jupyter widget to choose each raster from a drop down menu. Take a look at some of the outputs."
   ]
  },
  {
   "cell_type": "code",
   "execution_count": null,
   "metadata": {},
   "outputs": [],
   "source": [
    "import ipywidgets as widgets\n",
    "from ipywidgets import interact\n",
    "\n",
    "def see_raster(x):\n",
    "    src = rasterio.open(os.path.join(raster_outputs, f\"{x}.tif\"))\n",
    "    cmap, norm = cmap_options(x)\n",
    "    if x in ['TOPOGRAPHY']:\n",
    "        pyplot.imshow(src.read(1), cmap=cmap,  aspect='auto', norm=norm, interpolation='nearest', vmin=0)\n",
    "    else:\n",
    "        pyplot.imshow(src.read(1), cmap=cmap,  aspect='auto', norm=norm, interpolation='nearest')\n",
    "    cbar = pyplot.colorbar()\n",
    "    \n",
    "    # Keep the automatic aspect while scaling the image up in size\n",
    "    fig = pyplot.gcf()\n",
    "    w, h = fig.get_size_inches()\n",
    "    fig.set_size_inches(w * 1.75, h * 1.75)\n",
    "    \n",
    "    # Show image\n",
    "    pyplot.show()\n",
    "\n",
    "in_raster = widgets.Dropdown(\n",
    "    options=[('Basin', 'BASIN'), ('Basin mask', 'basn_msk'), ('Channel grid', 'CHANNELGRID'), ('Flow accumulation', 'FLOWACC'),\n",
    "            ('Flow direction', 'FLOWDIRECTION'), ('Forecast points', 'frxst_pts'), ('Lake grid', 'LAKEGRID'),\n",
    "            ('Land use', 'landuse'), ('Latitude', 'LATITUDE'), ('LKSATFAC', 'LKSATFAC'), ('Longitude', 'LONGITUDE'),\n",
    "            ('OVROUGHRTFAC', 'OVROUGHRTFAC'), ('RETDEPRTFAC', 'RETDEPRTFAC'), ('Stream order', 'STREAMORDER'),\n",
    "            ('Topography', 'TOPOGRAPHY')],\n",
    "    value='FLOWACC',\n",
    "    description='Variable:')\n",
    "\n",
    "interact(see_raster, x=in_raster)"
   ]
  },
  {
   "cell_type": "markdown",
   "metadata": {},
   "source": [
    "We can also look at the raster data projected onto a map. Use the dropdown widget below the map to add rasters as layers to the map. Use the menu in the top right corner of the map to turn layers on and off. "
   ]
  },
  {
   "cell_type": "code",
   "execution_count": null,
   "metadata": {},
   "outputs": [],
   "source": [
    "m3 = Map(center=map_center, zoom=10, scroll_wheel_zoom=True)\n",
    "\n",
    "m3.add_control(ScaleControl(position='bottomleft'))\n",
    "m3.add_control(FullScreenControl())\n",
    "control = LayersControl(position='topright')\n",
    "m3.add_control(control)\n",
    "\n",
    "m3.layout.width = '950px'\n",
    "m3.layout.height = '750px'\n",
    "\n",
    "m3"
   ]
  },
  {
   "cell_type": "code",
   "execution_count": null,
   "metadata": {
    "scrolled": true
   },
   "outputs": [],
   "source": [
    "def f(x):\n",
    "    r_path = os.path.join(raster_outputs, f\"{x}.tif\")\n",
    "    show_raster_map(r_path, m3, b_shp, output_folder)\n",
    "\n",
    "in_raster = widgets.Dropdown(\n",
    "    options=[('Basin', 'BASIN'), ('Flow accumulation', 'FLOWACC'), ('Flow direction', 'FLOWDIRECTION'), \n",
    "             ('Land use', 'landuse'), ('Stream order', 'STREAMORDER'), ('Topography', 'TOPOGRAPHY')],\n",
    "    value='FLOWDIRECTION',\n",
    "    description='Variable:',\n",
    ")\n",
    "interact(f, x=in_raster)"
   ]
  },
  {
   "cell_type": "code",
   "execution_count": null,
   "metadata": {},
   "outputs": [],
   "source": []
  }
 ],
 "metadata": {
  "kernelspec": {
   "display_name": "Python 3",
   "language": "python",
   "name": "python3"
  },
  "language_info": {
   "codemirror_mode": {
    "name": "ipython",
    "version": 3
   },
   "file_extension": ".py",
   "mimetype": "text/x-python",
   "name": "python",
   "nbconvert_exporter": "python",
   "pygments_lexer": "ipython3",
   "version": "3.7.8"
  }
 },
 "nbformat": 4,
 "nbformat_minor": 4
}
